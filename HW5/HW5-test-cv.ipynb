{
 "cells": [
  {
   "cell_type": "code",
   "execution_count": 3,
   "metadata": {},
   "outputs": [],
   "source": [
    "# pip install torch===1.4.0 torchvision===0.5.0 -f https://download.pytorch.org/whl/torch_stable.html\n",
    "# pip install facenet_pytorch"
   ]
  },
  {
   "cell_type": "code",
   "execution_count": 1,
   "metadata": {},
   "outputs": [],
   "source": [
    "import os\n",
    "import torch\n",
    "import torchvision\n",
    "import torch.nn as nn\n",
    "import numpy as np\n",
    "import torch.nn.functional as F\n",
    "from torchvision.datasets import ImageFolder\n",
    "from torch.utils.data import DataLoader, Dataset\n",
    "import torchvision.transforms as tt\n",
    "from torchvision.utils import make_grid\n",
    "import matplotlib.pyplot as plt\n",
    "%matplotlib inline\n",
    "import time\n",
    "from torch.autograd import Variable\n",
    "import pandas as pd\n",
    "from PIL import Image\n",
    "import random\n",
    "from matplotlib import image\n",
    "import shutil\n",
    "from sklearn.model_selection import train_test_split\n",
    "import cv2\n",
    "from facenet_pytorch import MTCNN\n",
    "from IPython import display\n",
    "from sklearn.metrics import accuracy_score"
   ]
  },
  {
   "cell_type": "code",
   "execution_count": 2,
   "metadata": {},
   "outputs": [],
   "source": [
    "import os\n",
    "os.environ[\"KMP_DUPLICATE_LIB_OK\"]=\"TRUE\""
   ]
  },
  {
   "cell_type": "code",
   "execution_count": 6,
   "metadata": {},
   "outputs": [],
   "source": [
    "class Hand_Classifier(nn.Module):\n",
    "    \n",
    "    def __init__(self):\n",
    "        super().__init__()\n",
    "        self.conv1 = self.conv_block(1, 32, pool=False)\n",
    "        self.conv2 = self.conv_block(32, 32, pool=True)\n",
    "        self.conv3 = self.conv_block(32, 64, pool=True)\n",
    "        self.drop = nn.Dropout(0.3)\n",
    "        self.dense = nn.Sequential(nn.Flatten(), \n",
    "                                   nn.Linear(64*6*6, 256), \n",
    "                                   nn.ReLU(inplace=True), \n",
    "                                   nn.Linear(256, 10), \n",
    "                                   nn.Softmax(dim=1)\n",
    "                                  )\n",
    "        \n",
    "    @staticmethod\n",
    "    def conv_block(in_feat, out_feat, pool=False):\n",
    "        layers = [nn.Conv2d(in_feat, out_feat, kernel_size=3), nn.ReLU(inplace=True)]\n",
    "        if pool:\n",
    "            layers.append(nn.MaxPool2d(kernel_size=3))\n",
    "        return nn.Sequential(*layers)\n",
    "    \n",
    "    def forward(self, x):\n",
    "        out = self.conv1(x)\n",
    "        out = self.conv2(out)\n",
    "        out = self.drop(out)\n",
    "        out = self.conv3(out)\n",
    "        out = self.drop(out)\n",
    "        out = self.dense(out)\n",
    "        \n",
    "        return out"
   ]
  },
  {
   "cell_type": "code",
   "execution_count": 7,
   "metadata": {},
   "outputs": [
    {
     "data": {
      "text/plain": [
       "device(type='cpu')"
      ]
     },
     "execution_count": 7,
     "metadata": {},
     "output_type": "execute_result"
    }
   ],
   "source": [
    "def get_default_device():\n",
    "    if torch.cuda.is_available():\n",
    "        return torch.device('cuda')\n",
    "    else:\n",
    "        return torch.device('cpu')\n",
    "    \n",
    "device = get_default_device()\n",
    "device"
   ]
  },
  {
   "cell_type": "code",
   "execution_count": 8,
   "metadata": {},
   "outputs": [],
   "source": [
    "def accuracy(pred, true):\n",
    "    pred = np.argmax(pred.to('cpu').detach().numpy(), axis=1)\n",
    "    true = true.to('cpu').detach().numpy()\n",
    "    return len(np.where(pred==true)[0])/len(true)"
   ]
  },
  {
   "cell_type": "code",
   "execution_count": 9,
   "metadata": {},
   "outputs": [],
   "source": [
    "hс = Hand_Classifier()"
   ]
  },
  {
   "cell_type": "code",
   "execution_count": 10,
   "metadata": {},
   "outputs": [],
   "source": [
    "criterion = nn.CrossEntropyLoss()\n",
    "optimizer = torch.optim.RMSprop(hс.parameters(), lr=0.001, weight_decay=1e-6)"
   ]
  },
  {
   "cell_type": "code",
   "execution_count": 11,
   "metadata": {},
   "outputs": [
    {
     "data": {
      "text/plain": [
       "Hand_Classifier(\n",
       "  (conv1): Sequential(\n",
       "    (0): Conv2d(1, 32, kernel_size=(3, 3), stride=(1, 1))\n",
       "    (1): ReLU(inplace=True)\n",
       "  )\n",
       "  (conv2): Sequential(\n",
       "    (0): Conv2d(32, 32, kernel_size=(3, 3), stride=(1, 1))\n",
       "    (1): ReLU(inplace=True)\n",
       "    (2): MaxPool2d(kernel_size=3, stride=3, padding=0, dilation=1, ceil_mode=False)\n",
       "  )\n",
       "  (conv3): Sequential(\n",
       "    (0): Conv2d(32, 64, kernel_size=(3, 3), stride=(1, 1))\n",
       "    (1): ReLU(inplace=True)\n",
       "    (2): MaxPool2d(kernel_size=3, stride=3, padding=0, dilation=1, ceil_mode=False)\n",
       "  )\n",
       "  (drop): Dropout(p=0.3, inplace=False)\n",
       "  (dense): Sequential(\n",
       "    (0): Flatten()\n",
       "    (1): Linear(in_features=2304, out_features=256, bias=True)\n",
       "    (2): ReLU(inplace=True)\n",
       "    (3): Linear(in_features=256, out_features=10, bias=True)\n",
       "    (4): Softmax(dim=1)\n",
       "  )\n",
       ")"
      ]
     },
     "execution_count": 11,
     "metadata": {},
     "output_type": "execute_result"
    }
   ],
   "source": [
    "hс.to(device)"
   ]
  },
  {
   "cell_type": "code",
   "execution_count": 14,
   "metadata": {},
   "outputs": [
    {
     "data": {
      "text/plain": [
       "<All keys matched successfully>"
      ]
     },
     "execution_count": 14,
     "metadata": {},
     "output_type": "execute_result"
    }
   ],
   "source": [
    "savePATH = './hw5-hc.pth'\n",
    "hс.load_state_dict(torch.load(savePATH, map_location=torch.device('cpu')))"
   ]
  },
  {
   "cell_type": "code",
   "execution_count": null,
   "metadata": {},
   "outputs": [
    {
     "name": "stdout",
     "output_type": "stream",
     "text": [
      "Face detected\n",
      "palm\n"
     ]
    },
    {
     "data": {
      "image/png": "[encoded data removed]",
      "text/plain": [
       "<Figure size 432x288 with 1 Axes>"
      ]
     },
     "metadata": {},
     "output_type": "display_data"
    }
   ],
   "source": [
    "import cv2\n",
    "import torch\n",
    "import numpy as np\n",
    "from facenet_pytorch import MTCNN\n",
    "\n",
    "mtcnn = MTCNN()\n",
    "\n",
    "def _draw(frame, boxes):\n",
    "    try:\n",
    "        for box in boxes:\n",
    "            # Рисуем обрамляющий прямоугольник лица на кадре\n",
    "            cv2.rectangle(frame,\n",
    "                          (box[0], box[1]),\n",
    "                          (box[2], box[3]),\n",
    "                          (0, 0, 255),\n",
    "                          thickness=2)\n",
    "    except:\n",
    "        print('Something wrong im draw function!')\n",
    "    return frame\n",
    "\n",
    "def digit_to_classname(digit):\n",
    "    if digit == 0:\n",
    "        return 'palm'\n",
    "    elif digit == 1:\n",
    "        return 'l'\n",
    "    elif digit == 2:\n",
    "        return 'fist'\n",
    "    elif digit == 3:\n",
    "        return 'fist_moved'\n",
    "    elif digit == 4:\n",
    "        return 'thumb'\n",
    "    elif digit == 5:\n",
    "        return 'index'\n",
    "    elif digit == 6:\n",
    "        return 'ok'\n",
    "    elif digit == 7:\n",
    "        return 'palm_moved'\n",
    "    elif digit == 8:\n",
    "        return 'c'\n",
    "    elif digit == 9:\n",
    "        return 'down'\n",
    "\n",
    "def crop_faces(frame, boxes):\n",
    "    faces = []\n",
    "    for i, box in enumerate(boxes):\n",
    "        faces.append(frame[int(box[1]):int(box[3]), \n",
    "            int(box[0]):int(box[2])])\n",
    "    return faces\n",
    "    \n",
    "flag_face = \"Face not detected\"\n",
    "\n",
    "while True:\n",
    "    cap = cv2.VideoCapture(0) \n",
    "    ret, frame = cap.read() \n",
    "    \n",
    "    boxes, probs, landmarks = mtcnn.detect(frame, landmarks=True)\n",
    "    \n",
    "    if np.all(boxes):\n",
    "        # Рисуем на кадре\n",
    "        frame = _draw(frame, boxes)\n",
    "        flag_face = \"Face detected\"\n",
    "    else:\n",
    "        flag_face = 'Face not detected' \n",
    "        \n",
    "    if flag_face == \"Face detected\":\n",
    "    \n",
    "        cv2.rectangle(frame, (0,0), (250, 250), (0, 0, 255), thickness=2)\n",
    "        hand = crop_faces(frame, [[0,0, 250, 250]])[0]\n",
    "\n",
    "        hand = cv2.resize(hand, (64, 64))\n",
    "        hand = cv2.cvtColor(hand, cv2.COLOR_BGR2GRAY)    \n",
    "        \n",
    "        #th, dframe = cv2.threshold(hand, 0, 255)\n",
    "        \n",
    "        torch_hand = torch.from_numpy(hand).unsqueeze(0).to(device).float()\n",
    "        #torch_hand = torch.from_numpy(dframe).unsqueeze(0).to(device).float()\n",
    "        gesture_probs = hс(torch_hand[None, ...])\n",
    "    \n",
    "    \n",
    "    cv2.imshow('Face Detection', frame) \n",
    "    \n",
    "    display.clear_output(wait=False)    \n",
    "    print(flag_face)    \n",
    "    if flag_face == \"Face detected\":\n",
    "        print(digit_to_classname(gesture_probs.argmax()))\n",
    "        plt.imshow(torch.tensor(torch_hand.detach().cpu().numpy()[0,:,:]))    \n",
    "    display.display(plt.gcf())\n",
    "    \n",
    "    \n",
    "    \n",
    "    if cv2.waitKey(1) & 0xFF == ord('q'):\n",
    "        break\n",
    "        \n",
    "# Очищаем все объекты opencv, что мы создали\n",
    "self.cap.release()\n",
    "cv2.destroyAllWindows()"
   ]
  },
  {
   "cell_type": "code",
   "execution_count": 40,
   "metadata": {},
   "outputs": [],
   "source": [
    "cap.release()\n",
    "cv2.destroyAllWindows()\n",
    "\n",
    "\n",
    "\n",
    "\n",
    "\n",
    "\n",
    "\n",
    "\n",
    "\n",
    "\n",
    "\n",
    "\n",
    "\n",
    "\n",
    "\n",
    "\n",
    "\n",
    "\n",
    "\n",
    "\n",
    "\n",
    "\n",
    "\n"
   ]
  },
  {
   "cell_type": "code",
   "execution_count": null,
   "metadata": {},
   "outputs": [],
   "source": []
  }
 ],
 "metadata": {
  "kernelspec": {
   "display_name": "Python 3",
   "language": "python",
   "name": "python3"
  },
  "language_info": {
   "codemirror_mode": {
    "name": "ipython",
    "version": 3
   },
   "file_extension": ".py",
   "mimetype": "text/x-python",
   "name": "python",
   "nbconvert_exporter": "python",
   "pygments_lexer": "ipython3",
   "version": "3.7.3"
  }
 },
 "nbformat": 4,
 "nbformat_minor": 4
}
